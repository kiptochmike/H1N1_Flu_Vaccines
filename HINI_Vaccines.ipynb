{
 "cells": [
  {
   "cell_type": "markdown",
   "id": "fe2f0ee7-2b27-4daf-adea-9bdbe0b925aa",
   "metadata": {},
   "source": [
    "# **STROKE DATA ANALYSIS**\n",
    "This is the dataset        https://drive.google.com/file/d/1JcqDBxq0D9a_hR1pP36SF159DmJvFU_k/view\n",
    "\n",
    "## **Specific Objectives:**\n",
    "\n",
    "I. **Identify Demographic Trends**\n",
    "   Explore and analyze demographic factors such as age, gender, marital status, and residence type to identify any trends or patterns related to strokes.\n",
    "\n",
    "II. **Assess Health Metrics Impact**\n",
    "    Investigate the impact of health metrics, including hypertension, heart disease, average glucose level, and BMI, on the occurrence of strokes.\n",
    "\n",
    "III. **Evaluate Lifestyle Factors**\n",
    "     Examine lifestyle factors, specifically smoking status and work type, to understand their association with strokes.\n",
    "\n",
    "IV. **Explore Correlations**\n",
    "    Conduct correlation analysis to identify relationships between different health conditions (hypertension, heart disease) and understand their potential collective influen on strokes.\n",
    " on strokes.\n"
   ]
  },
  {
   "cell_type": "code",
   "execution_count": 25,
   "id": "420e122c-cae4-4b06-8823-fc709966a145",
   "metadata": {},
   "outputs": [],
   "source": [
    "# Data manipulation and analysis\n",
    "import pandas as pd\n",
    "\n",
    "# Data visualization\n",
    "import matplotlib.pyplot as plt\n",
    "import seaborn as sns\n",
    "\n",
    "#Load the data \n",
    "df = pd.read_csv('./stroke_data.csv')"
   ]
  },
  {
   "cell_type": "markdown",
   "id": "4d39e99e-6122-435f-ada6-56fcf969d2af",
   "metadata": {},
   "source": [
    "## DATA INSPECTION\n",
    "\n",
    "1. **Preview rows of the dataset.**\n",
    "2. **Check for data types of each column.**\n",
    "3. **Check for missing values in each column.**\n",
    "4. **Check data shape.**\n",
    "5. **Check column names.**\n",
    "6. **Explore unique values in categorical columns.**\n",
    "7. **Explore summary statistics for numeric columns.**\n",
    "8. **Check for duplicates.**\n",
    "9. **Outliers**"
   ]
  },
  {
   "cell_type": "code",
   "execution_count": 26,
   "id": "c834201d-be89-4054-9b21-420765471bd9",
   "metadata": {},
   "outputs": [
    {
     "data": {
      "text/html": [
       "<div>\n",
       "<style scoped>\n",
       "    .dataframe tbody tr th:only-of-type {\n",
       "        vertical-align: middle;\n",
       "    }\n",
       "\n",
       "    .dataframe tbody tr th {\n",
       "        vertical-align: top;\n",
       "    }\n",
       "\n",
       "    .dataframe thead th {\n",
       "        text-align: right;\n",
       "    }\n",
       "</style>\n",
       "<table border=\"1\" class=\"dataframe\">\n",
       "  <thead>\n",
       "    <tr style=\"text-align: right;\">\n",
       "      <th></th>\n",
       "      <th>id</th>\n",
       "      <th>gender</th>\n",
       "      <th>age</th>\n",
       "      <th>hypertension</th>\n",
       "      <th>heart_disease</th>\n",
       "      <th>ever_married</th>\n",
       "      <th>work_type</th>\n",
       "      <th>Residence_type</th>\n",
       "      <th>avg_glucose_level</th>\n",
       "      <th>bmi</th>\n",
       "      <th>smoking_status</th>\n",
       "      <th>stroke</th>\n",
       "    </tr>\n",
       "  </thead>\n",
       "  <tbody>\n",
       "    <tr>\n",
       "      <th>0</th>\n",
       "      <td>9046</td>\n",
       "      <td>Male</td>\n",
       "      <td>67.0</td>\n",
       "      <td>0</td>\n",
       "      <td>1</td>\n",
       "      <td>Yes</td>\n",
       "      <td>Private</td>\n",
       "      <td>Urban</td>\n",
       "      <td>228.69</td>\n",
       "      <td>36.6</td>\n",
       "      <td>formerly smoked</td>\n",
       "      <td>1</td>\n",
       "    </tr>\n",
       "    <tr>\n",
       "      <th>1</th>\n",
       "      <td>51676</td>\n",
       "      <td>Female</td>\n",
       "      <td>61.0</td>\n",
       "      <td>0</td>\n",
       "      <td>0</td>\n",
       "      <td>Yes</td>\n",
       "      <td>Self-employed</td>\n",
       "      <td>Rural</td>\n",
       "      <td>202.21</td>\n",
       "      <td>NaN</td>\n",
       "      <td>never smoked</td>\n",
       "      <td>1</td>\n",
       "    </tr>\n",
       "    <tr>\n",
       "      <th>2</th>\n",
       "      <td>31112</td>\n",
       "      <td>Male</td>\n",
       "      <td>80.0</td>\n",
       "      <td>0</td>\n",
       "      <td>1</td>\n",
       "      <td>Yes</td>\n",
       "      <td>Private</td>\n",
       "      <td>Rural</td>\n",
       "      <td>105.92</td>\n",
       "      <td>32.5</td>\n",
       "      <td>never smoked</td>\n",
       "      <td>1</td>\n",
       "    </tr>\n",
       "    <tr>\n",
       "      <th>3</th>\n",
       "      <td>60182</td>\n",
       "      <td>Female</td>\n",
       "      <td>49.0</td>\n",
       "      <td>0</td>\n",
       "      <td>0</td>\n",
       "      <td>Yes</td>\n",
       "      <td>Private</td>\n",
       "      <td>Urban</td>\n",
       "      <td>171.23</td>\n",
       "      <td>34.4</td>\n",
       "      <td>smokes</td>\n",
       "      <td>1</td>\n",
       "    </tr>\n",
       "    <tr>\n",
       "      <th>4</th>\n",
       "      <td>1665</td>\n",
       "      <td>Female</td>\n",
       "      <td>79.0</td>\n",
       "      <td>1</td>\n",
       "      <td>0</td>\n",
       "      <td>Yes</td>\n",
       "      <td>Self-employed</td>\n",
       "      <td>Rural</td>\n",
       "      <td>174.12</td>\n",
       "      <td>24.0</td>\n",
       "      <td>never smoked</td>\n",
       "      <td>1</td>\n",
       "    </tr>\n",
       "  </tbody>\n",
       "</table>\n",
       "</div>"
      ],
      "text/plain": [
       "      id  gender   age  hypertension  heart_disease ever_married  \\\n",
       "0   9046    Male  67.0             0              1          Yes   \n",
       "1  51676  Female  61.0             0              0          Yes   \n",
       "2  31112    Male  80.0             0              1          Yes   \n",
       "3  60182  Female  49.0             0              0          Yes   \n",
       "4   1665  Female  79.0             1              0          Yes   \n",
       "\n",
       "       work_type Residence_type  avg_glucose_level   bmi   smoking_status  \\\n",
       "0        Private          Urban             228.69  36.6  formerly smoked   \n",
       "1  Self-employed          Rural             202.21   NaN     never smoked   \n",
       "2        Private          Rural             105.92  32.5     never smoked   \n",
       "3        Private          Urban             171.23  34.4           smokes   \n",
       "4  Self-employed          Rural             174.12  24.0     never smoked   \n",
       "\n",
       "   stroke  \n",
       "0       1  \n",
       "1       1  \n",
       "2       1  \n",
       "3       1  \n",
       "4       1  "
      ]
     },
     "execution_count": 26,
     "metadata": {},
     "output_type": "execute_result"
    }
   ],
   "source": [
    "# 1. Preview rows of the dataset \n",
    "df.head()"
   ]
  },
  {
   "cell_type": "code",
   "execution_count": 27,
   "id": "4c686372-2c9f-4689-a7a8-7bbe3e0fd652",
   "metadata": {},
   "outputs": [
    {
     "name": "stdout",
     "output_type": "stream",
     "text": [
      "Original Data Types:\n",
      "id                     int64\n",
      "gender                object\n",
      "age                  float64\n",
      "hypertension           int64\n",
      "heart_disease          int64\n",
      "ever_married          object\n",
      "work_type             object\n",
      "Residence_type        object\n",
      "avg_glucose_level    float64\n",
      "bmi                  float64\n",
      "smoking_status        object\n",
      "stroke                 int64\n",
      "dtype: object\n"
     ]
    }
   ],
   "source": [
    "# 2.Display data types of each column\n",
    "print(\"Original Data Types:\")\n",
    "print(df.dtypes)"
   ]
  },
  {
   "cell_type": "code",
   "execution_count": 28,
   "id": "9bb9a62d-3472-4372-88e4-3b3b9b0217a7",
   "metadata": {},
   "outputs": [
    {
     "name": "stdout",
     "output_type": "stream",
     "text": [
      "Missing Values per Column:\n",
      "id                     0\n",
      "gender                 0\n",
      "age                    0\n",
      "hypertension           0\n",
      "heart_disease          0\n",
      "ever_married           0\n",
      "work_type              0\n",
      "Residence_type         0\n",
      "avg_glucose_level      0\n",
      "bmi                  201\n",
      "smoking_status         0\n",
      "stroke                 0\n",
      "dtype: int64\n"
     ]
    }
   ],
   "source": [
    "# 3. Count missing values in each column\n",
    "missing_values = df.isnull().sum()\n",
    "print(\"Missing Values per Column:\")\n",
    "print(missing_values)"
   ]
  },
  {
   "cell_type": "code",
   "execution_count": 29,
   "id": "4e1bfe7a-3ca5-45ca-834f-b1a300c5bf7b",
   "metadata": {},
   "outputs": [
    {
     "name": "stdout",
     "output_type": "stream",
     "text": [
      "Number of Rows: 5110\n",
      "Number of Columns: 12\n"
     ]
    }
   ],
   "source": [
    "# 4.Display the shape of the DataFrame\n",
    "data_shape = df.shape\n",
    "print(\"Number of Rows:\", data_shape[0])\n",
    "print(\"Number of Columns:\", data_shape[1])"
   ]
  },
  {
   "cell_type": "code",
   "execution_count": 30,
   "id": "8d83e5a0-3440-4faa-89ef-dc1927865ed3",
   "metadata": {},
   "outputs": [
    {
     "name": "stdout",
     "output_type": "stream",
     "text": [
      "Column Names:\n",
      "Index(['id', 'gender', 'age', 'hypertension', 'heart_disease', 'ever_married',\n",
      "       'work_type', 'Residence_type', 'avg_glucose_level', 'bmi',\n",
      "       'smoking_status', 'stroke'],\n",
      "      dtype='object')\n"
     ]
    }
   ],
   "source": [
    "#5 .Display column names\n",
    "column_names = df.columns\n",
    "print(\"Column Names:\")\n",
    "print(column_names)"
   ]
  },
  {
   "cell_type": "code",
   "execution_count": 31,
   "id": "195940ab-9564-433f-8881-9d702dbf36a4",
   "metadata": {},
   "outputs": [
    {
     "name": "stdout",
     "output_type": "stream",
     "text": [
      "Unique Values in 'id':\n",
      "[ 9046 51676 31112 ... 19723 37544 44679]\n",
      "\n",
      "==================================================\n",
      "\n",
      "Unique Values in 'gender':\n",
      "['Male' 'Female' 'Other']\n",
      "\n",
      "==================================================\n",
      "\n",
      "Unique Values in 'age':\n",
      "[6.70e+01 6.10e+01 8.00e+01 4.90e+01 7.90e+01 8.10e+01 7.40e+01 6.90e+01\n",
      " 5.90e+01 7.80e+01 5.40e+01 5.00e+01 6.40e+01 7.50e+01 6.00e+01 5.70e+01\n",
      " 7.10e+01 5.20e+01 8.20e+01 6.50e+01 5.80e+01 4.20e+01 4.80e+01 7.20e+01\n",
      " 6.30e+01 7.60e+01 3.90e+01 7.70e+01 7.30e+01 5.60e+01 4.50e+01 7.00e+01\n",
      " 6.60e+01 5.10e+01 4.30e+01 6.80e+01 4.70e+01 5.30e+01 3.80e+01 5.50e+01\n",
      " 1.32e+00 4.60e+01 3.20e+01 1.40e+01 3.00e+00 8.00e+00 3.70e+01 4.00e+01\n",
      " 3.50e+01 2.00e+01 4.40e+01 2.50e+01 2.70e+01 2.30e+01 1.70e+01 1.30e+01\n",
      " 4.00e+00 1.60e+01 2.20e+01 3.00e+01 2.90e+01 1.10e+01 2.10e+01 1.80e+01\n",
      " 3.30e+01 2.40e+01 3.40e+01 3.60e+01 6.40e-01 4.10e+01 8.80e-01 5.00e+00\n",
      " 2.60e+01 3.10e+01 7.00e+00 1.20e+01 6.20e+01 2.00e+00 9.00e+00 1.50e+01\n",
      " 2.80e+01 1.00e+01 1.80e+00 3.20e-01 1.08e+00 1.90e+01 6.00e+00 1.16e+00\n",
      " 1.00e+00 1.40e+00 1.72e+00 2.40e-01 1.64e+00 1.56e+00 7.20e-01 1.88e+00\n",
      " 1.24e+00 8.00e-01 4.00e-01 8.00e-02 1.48e+00 5.60e-01 4.80e-01 1.60e-01]\n",
      "\n",
      "==================================================\n",
      "\n",
      "Unique Values in 'hypertension':\n",
      "[0 1]\n",
      "\n",
      "==================================================\n",
      "\n",
      "Unique Values in 'heart_disease':\n",
      "[1 0]\n",
      "\n",
      "==================================================\n",
      "\n",
      "Unique Values in 'ever_married':\n",
      "['Yes' 'No']\n",
      "\n",
      "==================================================\n",
      "\n",
      "Unique Values in 'work_type':\n",
      "['Private' 'Self-employed' 'Govt_job' 'children' 'Never_worked']\n",
      "\n",
      "==================================================\n",
      "\n",
      "Unique Values in 'Residence_type':\n",
      "['Urban' 'Rural']\n",
      "\n",
      "==================================================\n",
      "\n",
      "Unique Values in 'avg_glucose_level':\n",
      "[228.69 202.21 105.92 ...  82.99 166.29  85.28]\n",
      "\n",
      "==================================================\n",
      "\n",
      "Unique Values in 'bmi':\n",
      "[36.6  nan 32.5 34.4 24.  29.  27.4 22.8 24.2 29.7 36.8 27.3 28.2 30.9\n",
      " 37.5 25.8 37.8 22.4 48.9 26.6 27.2 23.5 28.3 44.2 25.4 22.2 30.5 26.5\n",
      " 33.7 23.1 32.  29.9 23.9 28.5 26.4 20.2 33.6 38.6 39.2 27.7 31.4 36.5\n",
      " 33.2 32.8 40.4 25.3 30.2 47.5 20.3 30.  28.9 28.1 31.1 21.7 27.  24.1\n",
      " 45.9 44.1 22.9 29.1 32.3 41.1 25.6 29.8 26.3 26.2 29.4 24.4 28.  28.8\n",
      " 34.6 19.4 30.3 41.5 22.6 56.6 27.1 31.3 31.  31.7 35.8 28.4 20.1 26.7\n",
      " 38.7 34.9 25.  23.8 21.8 27.5 24.6 32.9 26.1 31.9 34.1 36.9 37.3 45.7\n",
      " 34.2 23.6 22.3 37.1 45.  25.5 30.8 37.4 34.5 27.9 29.5 46.  42.5 35.5\n",
      " 26.9 45.5 31.5 33.  23.4 30.7 20.5 21.5 40.  28.6 42.2 29.6 35.4 16.9\n",
      " 26.8 39.3 32.6 35.9 21.2 42.4 40.5 36.7 29.3 19.6 18.  17.6 19.1 50.1\n",
      " 17.7 54.6 35.  22.  39.4 19.7 22.5 25.2 41.8 60.9 23.7 24.5 31.2 16.\n",
      " 31.6 25.1 24.8 18.3 20.  19.5 36.  35.3 40.1 43.1 21.4 34.3 27.6 16.5\n",
      " 24.3 25.7 21.9 38.4 25.9 54.7 18.6 24.9 48.2 20.7 39.5 23.3 64.8 35.1\n",
      " 43.6 21.  47.3 16.6 21.6 15.5 35.6 16.7 41.9 16.4 17.1 29.2 37.9 44.6\n",
      " 39.6 40.3 41.6 39.  23.2 18.9 36.1 36.3 46.5 16.8 46.6 35.2 20.9 13.8\n",
      " 31.8 15.3 38.2 45.2 17.  49.8 27.8 60.2 23.  22.1 26.  44.3 51.  39.7\n",
      " 34.7 21.3 41.2 34.8 19.2 35.7 40.8 24.7 19.  32.4 34.  28.7 32.1 51.5\n",
      " 20.4 30.6 71.9 19.3 40.9 17.2 16.1 16.2 40.6 18.4 21.1 42.3 32.2 50.2\n",
      " 17.5 18.7 42.1 47.8 20.8 30.1 17.3 36.4 12.  36.2 55.7 14.4 43.  41.7\n",
      " 33.8 43.9 22.7 57.5 37.  38.5 16.3 44.  32.7 54.2 40.2 33.3 17.4 41.3\n",
      " 52.3 14.6 17.8 46.1 33.1 18.1 43.8 50.3 38.9 43.7 39.9 15.9 19.8 12.3\n",
      " 78.  38.3 41.  42.6 43.4 15.1 20.6 33.5 43.2 30.4 38.  33.4 44.9 44.7\n",
      " 37.6 39.8 53.4 55.2 42.  37.2 42.8 18.8 42.9 14.3 37.7 48.4 50.6 46.2\n",
      " 49.5 43.3 33.9 18.5 44.5 45.4 55.  54.8 19.9 17.9 15.6 52.8 15.2 66.8\n",
      " 55.1 18.2 48.5 55.9 57.3 10.3 14.1 15.7 56.  44.8 13.4 51.8 38.1 57.7\n",
      " 44.4 38.8 49.3 39.1 54.  56.1 97.6 53.9 13.7 11.5 41.4 14.2 49.4 15.4\n",
      " 45.1 49.2 48.7 53.8 42.7 48.8 52.7 53.5 50.5 15.8 45.3 14.8 51.9 63.3\n",
      " 40.7 61.2 48.  46.8 48.3 58.1 50.4 11.3 12.8 13.5 14.5 15.  59.7 47.4\n",
      " 52.5 13.2 52.9 61.6 49.9 54.3 47.9 13.  13.9 50.9 57.2 64.4 92.  50.8\n",
      " 57.9 45.8 47.6 14.  46.4 46.9 47.1 13.3 48.1 51.7 46.3 54.1 14.9]\n",
      "\n",
      "==================================================\n",
      "\n",
      "Unique Values in 'smoking_status':\n",
      "['formerly smoked' 'never smoked' 'smokes' 'Unknown']\n",
      "\n",
      "==================================================\n",
      "\n",
      "Unique Values in 'stroke':\n",
      "[1 0]\n",
      "\n",
      "==================================================\n",
      "\n"
     ]
    }
   ],
   "source": [
    "# 6 .Checking for uniques values in all columns \n",
    "# Loop through each column and print unique values\n",
    "for column_name in df.columns:\n",
    "    unique_values = df[column_name].unique()\n",
    "    print(f\"Unique Values in '{column_name}':\")\n",
    "    print(unique_values)\n",
    "    print(\"\\n\" + \"=\"*50 + \"\\n\")  # Separating output for each column"
   ]
  },
  {
   "cell_type": "code",
   "execution_count": 32,
   "id": "4d77502d-3a0a-460f-84f5-cedfe29168f1",
   "metadata": {},
   "outputs": [
    {
     "name": "stdout",
     "output_type": "stream",
     "text": [
      "Summary Statistics for Numeric Columns:\n",
      "                 id          age  hypertension  heart_disease  \\\n",
      "count   5110.000000  5110.000000   5110.000000    5110.000000   \n",
      "mean   36517.829354    43.226614      0.097456       0.054012   \n",
      "std    21161.721625    22.612647      0.296607       0.226063   \n",
      "min       67.000000     0.080000      0.000000       0.000000   \n",
      "25%    17741.250000    25.000000      0.000000       0.000000   \n",
      "50%    36932.000000    45.000000      0.000000       0.000000   \n",
      "75%    54682.000000    61.000000      0.000000       0.000000   \n",
      "max    72940.000000    82.000000      1.000000       1.000000   \n",
      "\n",
      "       avg_glucose_level          bmi       stroke  \n",
      "count        5110.000000  4909.000000  5110.000000  \n",
      "mean          106.147677    28.893237     0.048728  \n",
      "std            45.283560     7.854067     0.215320  \n",
      "min            55.120000    10.300000     0.000000  \n",
      "25%            77.245000    23.500000     0.000000  \n",
      "50%            91.885000    28.100000     0.000000  \n",
      "75%           114.090000    33.100000     0.000000  \n",
      "max           271.740000    97.600000     1.000000  \n"
     ]
    }
   ],
   "source": [
    "# 7.Display summary statistics for numeric columns(mean,std,max,min etc)\n",
    "numeric_summary = df.describe()\n",
    "print(\"Summary Statistics for Numeric Columns:\")\n",
    "print(numeric_summary)"
   ]
  },
  {
   "cell_type": "code",
   "execution_count": 33,
   "id": "a922ad8d-89f4-4994-ae64-e571c034dc5e",
   "metadata": {},
   "outputs": [
    {
     "name": "stdout",
     "output_type": "stream",
     "text": [
      "Number of Duplicate Rows: 0\n"
     ]
    }
   ],
   "source": [
    "# 8.Check for duplicate rows\n",
    "duplicate_rows = df[df.duplicated()]\n",
    "\n",
    "# Count the number of duplicate rows\n",
    "num_duplicate_rows = len(duplicate_rows)\n",
    "\n",
    "# Output the number of duplicate rows\n",
    "print(\"Number of Duplicate Rows:\", num_duplicate_rows)\n",
    "\n",
    "# Display the duplicate rows\n",
    "if num_duplicate_rows > 0:\n",
    "    print(\"\\nDuplicate Rows:\")\n",
    "    print(duplicate_rows)"
   ]
  },
  {
   "cell_type": "code",
   "execution_count": 34,
   "id": "bc85373a-3c31-4c09-a489-d69a54344a14",
   "metadata": {},
   "outputs": [
    {
     "name": "stdout",
     "output_type": "stream",
     "text": [
      "Rows with Outliers in 'age':\n",
      "Empty DataFrame\n",
      "Columns: [id, gender, age, hypertension, heart_disease, ever_married, work_type, Residence_type, avg_glucose_level, bmi, smoking_status, stroke]\n",
      "Index: []\n",
      "\n",
      "==================================================\n",
      "\n",
      "Rows with Outliers in 'avg_glucose_level':\n",
      "         id  gender   age  hypertension  heart_disease ever_married  \\\n",
      "0      9046    Male  67.0             0              1          Yes   \n",
      "1     51676  Female  61.0             0              0          Yes   \n",
      "3     60182  Female  49.0             0              0          Yes   \n",
      "4      1665  Female  79.0             1              0          Yes   \n",
      "5     56669    Male  81.0             0              0          Yes   \n",
      "...     ...     ...   ...           ...            ...          ...   \n",
      "5061  38009    Male  41.0             0              0          Yes   \n",
      "5062  11184  Female  82.0             0              0          Yes   \n",
      "5063  68967    Male  39.0             0              0          Yes   \n",
      "5064  66684    Male  70.0             0              0          Yes   \n",
      "5076  39935  Female  34.0             0              0          Yes   \n",
      "\n",
      "          work_type Residence_type  avg_glucose_level   bmi   smoking_status  \\\n",
      "0           Private          Urban             228.69  36.6  formerly smoked   \n",
      "1     Self-employed          Rural             202.21   NaN     never smoked   \n",
      "3           Private          Urban             171.23  34.4           smokes   \n",
      "4     Self-employed          Rural             174.12  24.0     never smoked   \n",
      "5           Private          Urban             186.21  29.0  formerly smoked   \n",
      "...             ...            ...                ...   ...              ...   \n",
      "5061        Private          Urban             223.78  32.3     never smoked   \n",
      "5062  Self-employed          Rural             211.58  36.9     never smoked   \n",
      "5063        Private          Urban             179.38  27.7          Unknown   \n",
      "5064  Self-employed          Rural             193.88  24.3          Unknown   \n",
      "5076        Private          Rural             174.37  23.0     never smoked   \n",
      "\n",
      "      stroke  \n",
      "0          1  \n",
      "1          1  \n",
      "3          1  \n",
      "4          1  \n",
      "5          1  \n",
      "...      ...  \n",
      "5061       0  \n",
      "5062       0  \n",
      "5063       0  \n",
      "5064       0  \n",
      "5076       0  \n",
      "\n",
      "[627 rows x 12 columns]\n",
      "\n",
      "==================================================\n",
      "\n",
      "Rows with Outliers in 'bmi':\n",
      "         id  gender   age  hypertension  heart_disease ever_married  \\\n",
      "21    13861  Female  52.0             1              0          Yes   \n",
      "113   41069  Female  45.0             0              0          Yes   \n",
      "254   32257  Female  47.0             0              0          Yes   \n",
      "258   28674  Female  74.0             1              0          Yes   \n",
      "270   72911  Female  57.0             1              0          Yes   \n",
      "...     ...     ...   ...           ...            ...          ...   \n",
      "4858   1696  Female  43.0             0              0          Yes   \n",
      "4906  72696  Female  53.0             0              0          Yes   \n",
      "4952  16245    Male  51.0             1              0          Yes   \n",
      "5009  40732  Female  50.0             0              0          Yes   \n",
      "5057  38349  Female  49.0             0              0          Yes   \n",
      "\n",
      "          work_type Residence_type  avg_glucose_level   bmi   smoking_status  \\\n",
      "21    Self-employed          Urban             233.29  48.9     never smoked   \n",
      "113         Private          Rural             224.10  56.6     never smoked   \n",
      "254         Private          Urban             210.95  50.1          Unknown   \n",
      "258   Self-employed          Urban             205.84  54.6     never smoked   \n",
      "270         Private          Rural             129.54  60.9           smokes   \n",
      "...             ...            ...                ...   ...              ...   \n",
      "4858        Private          Urban             100.88  47.6           smokes   \n",
      "4906        Private          Urban              70.51  54.1     never smoked   \n",
      "4952  Self-employed          Rural             211.83  56.6     never smoked   \n",
      "5009  Self-employed          Rural             126.85  49.5  formerly smoked   \n",
      "5057       Govt_job          Urban              69.92  47.6     never smoked   \n",
      "\n",
      "      stroke  \n",
      "21         1  \n",
      "113        1  \n",
      "254        0  \n",
      "258        0  \n",
      "270        0  \n",
      "...      ...  \n",
      "4858       0  \n",
      "4906       0  \n",
      "4952       0  \n",
      "5009       0  \n",
      "5057       0  \n",
      "\n",
      "[110 rows x 12 columns]\n",
      "\n",
      "==================================================\n",
      "\n"
     ]
    }
   ],
   "source": [
    "# 9.Outliers \n",
    "# Numeric columns for outlier detection 'age', 'hypertension', 'heart_disease', 'avg_glucose_level', and 'bmi'.\n",
    "numeric_columns = ['age',  'avg_glucose_level', 'bmi']\n",
    "\n",
    "# Loop through each numeric column\n",
    "for column in numeric_columns:\n",
    "    # Calculate IQR\n",
    "    q1 = df[column].quantile(0.25)\n",
    "    q3 = df[column].quantile(0.75)\n",
    "    iqr = q3 - q1\n",
    "\n",
    "    # Identify outliers using IQR\n",
    "    outliers = (df[column] < (q1 - 1.5 * iqr)) | (df[column] > (q3 + 1.5 * iqr))\n",
    "\n",
    "    # Display the rows with outliers\n",
    "    print(f\"Rows with Outliers in '{column}':\")\n",
    "    print(df[outliers])\n",
    "    print(\"\\n\" + \"=\"*50 + \"\\n\")  # Separating output for each column\n"
   ]
  },
  {
   "cell_type": "code",
   "execution_count": 35,
   "id": "ee347bb4-ff90-427c-9fe4-4ff353a0a408",
   "metadata": {},
   "outputs": [
    {
     "data": {
      "image/png": "[encoded data removed]",
      "text/plain": [
       "<Figure size 1500x500 with 3 Axes>"
      ]
     },
     "metadata": {},
     "output_type": "display_data"
    }
   ],
   "source": [
    "# 9. outlier plot \n",
    "# Set up the figure with subplots\n",
    "fig, axes = plt.subplots(nrows=1, ncols=3, figsize=(15, 5))\n",
    "\n",
    "# Box plot for 'age'\n",
    "sns.boxplot(x=df['age'], ax=axes[0])\n",
    "axes[0].set_title('Box Plot for Age')\n",
    "\n",
    "# Box plot for 'avg_glucose_level'\n",
    "sns.boxplot(x=df['avg_glucose_level'], ax=axes[1])\n",
    "axes[1].set_title('Box Plot for Avg Glucose Level')\n",
    "\n",
    "# Box plot for 'bmi'\n",
    "sns.boxplot(x=df['bmi'], ax=axes[2])\n",
    "axes[2].set_title('Box Plot for BMI')\n",
    "\n",
    "# Adjust layout\n",
    "plt.tight_layout()\n",
    "plt.show()"
   ]
  },
  {
   "cell_type": "markdown",
   "id": "e02e7adc-93ab-4fdd-a961-1acb769bca92",
   "metadata": {},
   "source": [
    "# DATA CLEANING \n",
    "**1.Handling Missing Values**\n",
    "\n",
    "**2.Convert Data Types**\n",
    "\n",
    "**3.Handling Outliers**\n",
    "\n",
    "**4.Ensure consistency and accuracy across columns.**\n",
    "\n",
    "**5.Display final dataset**\n"
   ]
  },
  {
   "cell_type": "code",
   "execution_count": 36,
   "id": "e1f9067f-94d3-4dbc-984b-4271b66f8eb9",
   "metadata": {},
   "outputs": [
    {
     "name": "stdout",
     "output_type": "stream",
     "text": [
      "Missing Values per Column after cleaning:\n",
      "id                   0\n",
      "gender               0\n",
      "age                  0\n",
      "hypertension         0\n",
      "heart_disease        0\n",
      "ever_married         0\n",
      "work_type            0\n",
      "Residence_type       0\n",
      "avg_glucose_level    0\n",
      "bmi                  0\n",
      "smoking_status       0\n",
      "stroke               0\n",
      "dtype: int64\n"
     ]
    }
   ],
   "source": [
    "# 1.Handling the missing values ( bmi 201 )\n",
    "# Calculate the mean of the 'bmi' column\n",
    "bmi_mean = df['bmi'].mean()\n",
    "\n",
    "# Fill missing values in 'bmi' with the mean\n",
    "df['bmi'].fillna(bmi_mean, inplace=True)\n",
    "\n",
    "# check for any remaining missing values\n",
    "missing_values_after_cleaning = df.isnull().sum()\n",
    "\n",
    "# Print the result\n",
    "print(\"Missing Values per Column after cleaning:\")\n",
    "print(missing_values_after_cleaning)\n"
   ]
  },
  {
   "cell_type": "code",
   "execution_count": 37,
   "id": "2a13a5a7-bd83-4d19-bad8-47feda76d192",
   "metadata": {},
   "outputs": [],
   "source": [
    "#2.Convert Datatypes \n",
    "\n",
    "# Identify non-numeric columns\n",
    "non_numeric_columns = df.select_dtypes(exclude=['int64', 'float64']).columns\n",
    "\n",
    "# Convert non-numeric columns to numeric \n",
    "for column in non_numeric_columns:\n",
    "    df[column] = pd.to_numeric(df[column], errors='coerce')  # 'coerce' converts non-convertible values to NaN\n"
   ]
  },
  {
   "cell_type": "code",
   "execution_count": 38,
   "id": "a501c3eb-cb21-4171-b21e-693ef845b0a7",
   "metadata": {},
   "outputs": [
    {
     "data": {
      "image/png": "[encoded data removed]",
      "text/plain": [
       "<Figure size 640x480 with 1 Axes>"
      ]
     },
     "metadata": {},
     "output_type": "display_data"
    }
   ],
   "source": [
    "#3.Handling Outliers \n",
    "sns.boxplot(data=df)\n",
    "plt.show()"
   ]
  },
  {
   "cell_type": "code",
   "execution_count": 39,
   "id": "4a882c17-26b4-490f-851d-3bb5ccf83ea6",
   "metadata": {},
   "outputs": [],
   "source": [
    "# Remove rows with outliers\n",
    "df_no_outliers = df[~outliers]\n"
   ]
  },
  {
   "cell_type": "code",
   "execution_count": 40,
   "id": "f9798bd7",
   "metadata": {},
   "outputs": [],
   "source": [
    "# Replace outliers with the median\n",
    "df_imputed = df.copy()\n",
    "df_imputed[outliers] = df.median()\n"
   ]
  },
  {
   "cell_type": "code",
   "execution_count": 41,
   "id": "7de448bc",
   "metadata": {},
   "outputs": [
    {
     "data": {
      "text/plain": [
       "id                     int64\n",
       "gender               float64\n",
       "age                  float64\n",
       "hypertension           int64\n",
       "heart_disease          int64\n",
       "ever_married         float64\n",
       "work_type            float64\n",
       "Residence_type       float64\n",
       "avg_glucose_level    float64\n",
       "bmi                  float64\n",
       "smoking_status       float64\n",
       "stroke                 int64\n",
       "dtype: object"
      ]
     },
     "execution_count": 41,
     "metadata": {},
     "output_type": "execute_result"
    }
   ],
   "source": [
    "df.dtypes"
   ]
  }
 ],
 "metadata": {
  "kernelspec": {
   "display_name": "Python 3 (ipykernel)",
   "language": "python",
   "name": "python3"
  },
  "language_info": {
   "codemirror_mode": {
    "name": "ipython",
    "version": 3
   },
   "file_extension": ".py",
   "mimetype": "text/x-python",
   "name": "python",
   "nbconvert_exporter": "python",
   "pygments_lexer": "ipython3",
   "version": "3.11.5"
  }
 },
 "nbformat": 4,
 "nbformat_minor": 5
}
